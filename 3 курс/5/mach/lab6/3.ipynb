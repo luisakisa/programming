{
  "cells": [
    {
      "cell_type": "markdown",
      "metadata": {
        "id": "ToT_1Hfw8806"
      },
      "source": [
        "Обучите модель линейной регрессии на данных согласно вашему варианту. Выведите\n",
        "угловой коэффициент, точку пересечения с осью ординат и точность."
      ]
    },
    {
      "cell_type": "markdown",
      "metadata": {
        "id": "klbbanzy880-"
      },
      "source": [
        "### Вариант 3\n"
      ]
    },
    {
      "cell_type": "code",
      "execution_count": 1,
      "metadata": {
        "colab": {
          "base_uri": "https://localhost:8080/",
          "height": 265
        },
        "id": "ppVpF1wp880-",
        "outputId": "9e8b8b00-42b0-494f-cbae-5d1fc2657f03"
      },
      "outputs": [
        {
          "output_type": "display_data",
          "data": {
            "text/plain": [
              "<Figure size 432x288 with 1 Axes>"
            ],
            "image/png": "[encoded data removed]"
          },
          "metadata": {
            "needs_background": "light"
          }
        }
      ],
      "source": [
        "import numpy as np\n",
        "import matplotlib.pyplot as plt\n",
        "\n",
        "np.random.seed(1)\n",
        "f = lambda x: 4 * x + np.random.random(*x.shape) * 13\n",
        "X = np.linspace(-1, 1)\n",
        "y = f(X)\n",
        "\n",
        "plt.scatter(X, y)\n",
        "plt.show()"
      ]
    },
    {
      "cell_type": "code",
      "execution_count": 4,
      "metadata": {
        "colab": {
          "base_uri": "https://localhost:8080/"
        },
        "id": "cBKPrJZE881A",
        "outputId": "69f183bc-3b5f-4b5c-b137-faacb3e316ac"
      },
      "outputs": [
        {
          "output_type": "execute_result",
          "data": {
            "text/plain": [
              "LinearRegression()"
            ]
          },
          "metadata": {},
          "execution_count": 4
        }
      ],
      "source": [
        "from sklearn.linear_model import LinearRegression\n",
        "\n",
        "lr = LinearRegression()\n",
        "lr.fit(X.reshape(-1, 1), y)"
      ]
    },
    {
      "cell_type": "code",
      "execution_count": 6,
      "metadata": {
        "colab": {
          "base_uri": "https://localhost:8080/",
          "height": 317
        },
        "id": "NnJ1E3mm881A",
        "outputId": "0cbe8293-8f37-4634-9f9b-b36a3379a41e"
      },
      "outputs": [
        {
          "output_type": "stream",
          "name": "stdout",
          "text": [
            "Угловой коэффициент:\t5.148\n",
            "Пересечение с Oy:\t6.071\n",
            "Точность:\t\t0.38\n"
          ]
        },
        {
          "output_type": "display_data",
          "data": {
            "text/plain": [
              "<Figure size 432x288 with 1 Axes>"
            ],
            "image/png": "[encoded data removed]"
          },
          "metadata": {
            "needs_background": "light"
          }
        }
      ],
      "source": [
        "print(f\"Угловой коэффициент:\\t{lr.coef_[0]:.3f}\")\n",
        "print(f\"Пересечение с Oy:\\t{lr.intercept_:.3f}\")\n",
        "print(f\"Точность:\\t\\t{lr.score(X.reshape(-1, 1), y):.2f}\")\n",
        "\n",
        "plt.plot(X, lr.predict(X.reshape(-1, 1)))\n",
        "plt.scatter(X, y)\n",
        "plt.scatter(0, lr.intercept_)\n",
        "plt.grid()\n",
        "plt.show()\n"
      ]
    }
  ],
  "metadata": {
    "kernelspec": {
      "display_name": "Python 3.10.8 64-bit",
      "language": "python",
      "name": "python3"
    },
    "language_info": {
      "codemirror_mode": {
        "name": "ipython",
        "version": 3
      },
      "file_extension": ".py",
      "mimetype": "text/x-python",
      "name": "python",
      "nbconvert_exporter": "python",
      "pygments_lexer": "ipython3",
      "version": "3.10.8"
    },
    "orig_nbformat": 4,
    "vscode": {
      "interpreter": {
        "hash": "97cc609b13305c559618ec78a438abc56230b9381f827f22d070313b9a1f3777"
      }
    },
    "colab": {
      "provenance": []
    }
  },
  "nbformat": 4,
  "nbformat_minor": 0
}